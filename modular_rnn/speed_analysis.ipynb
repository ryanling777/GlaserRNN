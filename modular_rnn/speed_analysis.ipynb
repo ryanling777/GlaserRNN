{
 "cells": [
  {
   "cell_type": "code",
   "execution_count": 1,
   "metadata": {},
   "outputs": [],
   "source": [
    "import pandas as pd\n",
    "import matplotlib.pyplot as plt\n",
    "import numpy as np\n",
    "from numpy import matlib\n",
    "import seaborn as sns\n",
    "from PyalData.pyaldata.interval import restrict_to_interval \n",
    "from numpy.linalg import eig\n",
    "\n"
   ]
  },
  {
   "cell_type": "code",
   "execution_count": 4,
   "metadata": {},
   "outputs": [],
   "source": [
    "orig_df = pd.read_hdf('Test_Output.h5')\n"
   ]
  },
  {
   "cell_type": "code",
   "execution_count": 5,
   "metadata": {},
   "outputs": [],
   "source": [
    "#orig_df = pd.read_pickle('Test_OutputUnrestricted.pkl')\n",
    "preparatory_rates = restrict_to_interval(orig_df,\"idx_trial_start\",\"idx_go_cue\",0,0,None,None,None,False, True, 'motor_cortex_rates')\n",
    "movement_rates = restrict_to_interval(orig_df,\"idx_go_cue\",\"idx_trial_end\",0,0,None,None,None,False, True, 'motor_cortex_rates')"
   ]
  },
  {
   "attachments": {},
   "cell_type": "markdown",
   "metadata": {},
   "source": [
    "PREPARATION\n",
    "<\\n> preprates is an n x ct matrix where n is the number of neurons, c is the number of targets and t is the number of timestamps."
   ]
  },
  {
   "cell_type": "code",
   "execution_count": 6,
   "metadata": {},
   "outputs": [
    {
     "data": {
      "text/plain": [
       "array([[0.3379472 , 0.34818524, 0.35806972, ..., 0.8214746 , 0.8163736 ,\n",
       "        0.80580264],\n",
       "       [0.00396615, 0.0030102 , 0.00237106, ..., 0.        , 0.        ,\n",
       "        0.        ],\n",
       "       [0.01423976, 0.01352836, 0.01367132, ..., 0.        , 0.        ,\n",
       "        0.        ],\n",
       "       ...,\n",
       "       [0.29421443, 0.29918152, 0.30330226, ..., 0.        , 0.        ,\n",
       "        0.        ],\n",
       "       [0.24354182, 0.24872454, 0.25401855, ..., 0.707088  , 0.6984206 ,\n",
       "        0.6630047 ],\n",
       "       [0.        , 0.        , 0.        , ..., 0.        , 0.        ,\n",
       "        0.        ]], dtype=float32)"
      ]
     },
     "execution_count": 6,
     "metadata": {},
     "output_type": "execute_result"
    }
   ],
   "source": [
    "\n",
    "for i in range(8):\n",
    "\n",
    "    if i == 0:\n",
    "        preptarget = preparatory_rates.loc[preparatory_rates.target_id == i]\n",
    "        averagetargetrates = np.transpose(preptarget['motor_cortex_rates'].mean())\n",
    "        preprates = averagetargetrates\n",
    "    else:\n",
    "        preptarget = preparatory_rates.loc[preparatory_rates.target_id == i]\n",
    "        averagetargetrates = np.transpose(preptarget['motor_cortex_rates'].mean())\n",
    "        preprates = np.concatenate((preprates, averagetargetrates), axis=1)\n",
    "\n",
    "\n",
    "preprates"
   ]
  },
  {
   "attachments": {},
   "cell_type": "markdown",
   "metadata": {},
   "source": [
    "MOVEMENT\n",
    "Movementrates is an n x ct matrix where n is the number of neurons, c is the number of targets and t is the number of timestamps."
   ]
  },
  {
   "cell_type": "code",
   "execution_count": 7,
   "metadata": {},
   "outputs": [
    {
     "data": {
      "text/plain": [
       "(50, 648)"
      ]
     },
     "execution_count": 7,
     "metadata": {},
     "output_type": "execute_result"
    }
   ],
   "source": [
    "for i in range(8):\n",
    "\n",
    "    if i == 0:\n",
    "        movetarget = movement_rates.loc[movement_rates.target_id == i]\n",
    "        averagetargetrates =  np.transpose(movetarget['motor_cortex_rates'].mean())\n",
    "        movementrates = averagetargetrates\n",
    "    else:\n",
    "        movetarget = movement_rates.loc[movement_rates.target_id == i]\n",
    "        averagetargetrates = np.transpose(movetarget['motor_cortex_rates'].mean())\n",
    "        movementrates = np.concatenate((movementrates, averagetargetrates), axis=1)\n",
    "\n",
    "movementrates.shape"
   ]
  },
  {
   "attachments": {},
   "cell_type": "markdown",
   "metadata": {},
   "source": [
    "FINDING COVARIANCE MATRIX"
   ]
  },
  {
   "cell_type": "code",
   "execution_count": 8,
   "metadata": {},
   "outputs": [],
   "source": [
    "#Find covariance matrix\n",
    "mean_prep = np.mean(preprates, axis = 1)\n",
    "mean_move = np.mean(movementrates, axis = 1)\n",
    "mean_prep = np.transpose(np.matlib.repmat(mean_prep,648,1))\n",
    "mean_move = np.transpose(np.matlib.repmat(mean_move,648,1))\n",
    "\n",
    "transformed_prep = preprates - mean_prep\n",
    "transformed_move = movementrates - mean_move\n",
    "\n",
    "\n",
    "covarianceprep = (1/(transformed_prep.shape[0]*transformed_prep.shape[1]))*np.matmul(transformed_prep,np.transpose(transformed_prep))\n",
    "covariancemove = (1/(transformed_move.shape[0]*transformed_move.shape[1]))*np.matmul(transformed_move,np.transpose(transformed_move))\n"
   ]
  },
  {
   "cell_type": "code",
   "execution_count": 9,
   "metadata": {},
   "outputs": [],
   "source": [
    "def find_variance(eigenvalues):\n",
    "    total = sum(eigenvalues)\n",
    "    for i in range(len(eigenvalues)):\n",
    "        eigenvalues[i] = (eigenvalues[i]/total)*100\n",
    "    \n",
    "    return eigenvalues"
   ]
  },
  {
   "attachments": {},
   "cell_type": "markdown",
   "metadata": {},
   "source": [
    "PRINCIPAL COMPONENTS ANALYSIS"
   ]
  },
  {
   "cell_type": "code",
   "execution_count": 10,
   "metadata": {},
   "outputs": [
    {
     "name": "stdout",
     "output_type": "stream",
     "text": [
      "[27.929937   13.185696    2.7275944   6.242107    7.0333357   3.621732\n",
      "  1.075399    2.3174627   0.35191905  0.4741671 ]\n"
     ]
    }
   ],
   "source": [
    "# Finding eigenvectors and eigenvalues of Covariance Matrix\n",
    "val_prep, pc_prep = eig(covarianceprep)\n",
    "val_move, pc_move = eig(covariancemove)\n",
    "\n",
    "variance_prep = find_variance(val_prep)\n",
    "variance_prep = variance_prep[:10]\n",
    "\n",
    "variance_move = find_variance(val_move)\n",
    "variance_move = variance_move[:10]\n",
    "\n",
    "# Project data to opposite epoch\n",
    "#top10_pcprep = pc_prep[:,:10]\n",
    "\n",
    "# Transform movement data into top 10 prep PC dimensions\n",
    "projected_movement = np.matmul(np.transpose(pc_prep), transformed_move)\n",
    "proj_movementsquared = np.square(projected_movement)\n",
    "proj_column = np.sum(proj_movementsquared, axis = 1)\n",
    "proj_movementvar = (1/(projected_movement.shape[0]*projected_movement.shape[1]))*proj_column\n",
    "proj_movementvar.shape\n",
    "\n",
    "proj_variance_move = find_variance(proj_movementvar)\n",
    "proj_variance_move = proj_variance_move[:10]\n",
    "\n",
    "print(proj_variance_move)\n",
    "\n",
    "\n"
   ]
  },
  {
   "attachments": {},
   "cell_type": "markdown",
   "metadata": {},
   "source": [
    "PLOT OUT GRAPHS"
   ]
  },
  {
   "cell_type": "code",
   "execution_count": 11,
   "metadata": {},
   "outputs": [
    {
     "data": {
      "image/png": "[encoded data removed]",
      "text/plain": [
       "<Figure size 640x480 with 1 Axes>"
      ]
     },
     "metadata": {},
     "output_type": "display_data"
    }
   ],
   "source": [
    "x_axis = np.array([1.0,2.0,3.0,4.0,5.0,6.0,7.0,8.0,9.0,10.0])\n",
    "width = 0.2\n",
    "plt.bar(x_axis, variance_prep, width=0.2, color='b', align='center')\n",
    "plt.bar(x_axis + width, proj_variance_move, width=0.2, color='r', align='center')\n",
    "plt.title('Prepratory Epoch')\n",
    "plt.xlabel('First 10 Principal Components')\n",
    "plt.ylabel('% Variance')\n",
    "plt.xticks(x_axis)\n",
    "plt.legend(['Preparation', 'Movement'])\n",
    "plt.show()"
   ]
  }
 ],
 "metadata": {
  "kernelspec": {
   "display_name": "base",
   "language": "python",
   "name": "python3"
  },
  "language_info": {
   "codemirror_mode": {
    "name": "ipython",
    "version": 3
   },
   "file_extension": ".py",
   "mimetype": "text/x-python",
   "name": "python",
   "nbconvert_exporter": "python",
   "pygments_lexer": "ipython3",
   "version": "3.10.6"
  },
  "orig_nbformat": 4,
  "vscode": {
   "interpreter": {
    "hash": "824e6d3070c9aef583dfb973f1d123f242d36c88ef3711bd1cf7460d3d6a1f70"
   }
  }
 },
 "nbformat": 4,
 "nbformat_minor": 2
}
