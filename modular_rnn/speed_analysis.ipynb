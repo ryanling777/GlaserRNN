{
 "cells": [
  {
   "cell_type": "code",
   "execution_count": 66,
   "metadata": {},
   "outputs": [],
   "source": [
    "import pandas as pd\n",
    "import matplotlib.pyplot as plt\n",
    "import numpy as np\n",
    "from numpy import matlib\n",
    "import seaborn as sns\n",
    "from PyalData.pyaldata.interval import restrict_to_interval \n",
    "from numpy.linalg import eig\n",
    "\n"
   ]
  },
  {
   "cell_type": "code",
   "execution_count": 21,
   "metadata": {},
   "outputs": [],
   "source": [
    "orig_df = pd.read_pickle('Test_OutputUnrestricted.pkl')\n",
    "preparatory_rates = restrict_to_interval(orig_df,\"idx_trial_start\",\"idx_go_cue\",0,0,None,None,None,False, True, 'motor_cortex_rates')\n",
    "movement_rates = restrict_to_interval(orig_df,\"idx_go_cue\",\"idx_trial_end\",0,0,None,None,None,False, True, 'motor_cortex_rates')"
   ]
  },
  {
   "cell_type": "code",
   "execution_count": 31,
   "metadata": {},
   "outputs": [
    {
     "data": {
      "text/plain": [
       "(81, 50)"
      ]
     },
     "execution_count": 31,
     "metadata": {},
     "output_type": "execute_result"
    }
   ],
   "source": [
    "p = preparatory_rates.loc[preparatory_rates.target_id == 0]\n",
    "average = p['motor_cortex_rates'].mean()\n",
    "average.shape"
   ]
  },
  {
   "attachments": {},
   "cell_type": "markdown",
   "metadata": {},
   "source": [
    "PREPARATION\n",
    "<\\n> preprates is an n x ct matrix where n is the number of neurons, c is the number of targets and t is the number of timestamps."
   ]
  },
  {
   "cell_type": "code",
   "execution_count": 33,
   "metadata": {},
   "outputs": [
    {
     "data": {
      "text/plain": [
       "(50, 648)"
      ]
     },
     "execution_count": 33,
     "metadata": {},
     "output_type": "execute_result"
    }
   ],
   "source": [
    "\n",
    "for i in range(8):\n",
    "\n",
    "    if i == 0:\n",
    "        preptarget = preparatory_rates.loc[preparatory_rates.target_id == i]\n",
    "        averagetargetrates = np.transpose(preptarget['motor_cortex_rates'].mean())\n",
    "        preprates = averagetargetrates\n",
    "    else:\n",
    "        preptarget = preparatory_rates.loc[preparatory_rates.target_id == i]\n",
    "        averagetargetrates = np.transpose(preptarget['motor_cortex_rates'].mean())\n",
    "        preprates = np.concatenate((preprates, averagetargetrates), axis=1)\n",
    "\n",
    "\n",
    "preprates.shape"
   ]
  },
  {
   "attachments": {},
   "cell_type": "markdown",
   "metadata": {},
   "source": [
    "MOVEMENT\n",
    "Movementrates is an n x ct matrix where n is the number of neurons, c is the number of targets and t is the number of timestamps."
   ]
  },
  {
   "cell_type": "code",
   "execution_count": 34,
   "metadata": {},
   "outputs": [
    {
     "data": {
      "text/plain": [
       "(50, 648)"
      ]
     },
     "execution_count": 34,
     "metadata": {},
     "output_type": "execute_result"
    }
   ],
   "source": [
    "for i in range(8):\n",
    "\n",
    "    if i == 0:\n",
    "        movetarget = movement_rates.loc[movement_rates.target_id == i]\n",
    "        averagetargetrates =  np.transpose(movetarget['motor_cortex_rates'].mean())\n",
    "        movementrates = averagetargetrates\n",
    "    else:\n",
    "        movetarget = movement_rates.loc[movement_rates.target_id == i]\n",
    "        averagetargetrates = np.transpose(movetarget['motor_cortex_rates'].mean())\n",
    "        movementrates = np.concatenate((movementrates, averagetargetrates), axis=1)\n",
    "\n",
    "movementrates.shape"
   ]
  },
  {
   "attachments": {},
   "cell_type": "markdown",
   "metadata": {},
   "source": [
    "FINDING COVARIANCE MATRIX"
   ]
  },
  {
   "cell_type": "code",
   "execution_count": 60,
   "metadata": {},
   "outputs": [
    {
     "name": "stdout",
     "output_type": "stream",
     "text": [
      "(50, 648)\n",
      "(50, 648)\n",
      "(50, 648)\n"
     ]
    }
   ],
   "source": [
    "#Find covariance matrix\n",
    "mean_prep = np.mean(preprates, axis = 1)\n",
    "mean_move = np.mean(movementrates, axis = 1)\n",
    "mean_prep = np.transpose(np.matlib.repmat(mean_prep,648,1))\n",
    "mean_move = np.transpose(np.matlib.repmat(mean_move,648,1))\n",
    "\n",
    "transformed_prep = preprates - mean_prep\n",
    "transformed_move = movementrates - mean_move\n",
    "\n",
    "\n",
    "covarianceprep = (1/(transformed_prep.shape[0]*transformed_prep.shape[1]))*np.matmul(transformed_prep,np.transpose(transformed_prep))\n",
    "covariancemove = (1/(transformed_move.shape[0]*transformed_move.shape[1]))*np.matmul(transformed_move,np.transpose(transformed_move))\n"
   ]
  },
  {
   "attachments": {},
   "cell_type": "markdown",
   "metadata": {},
   "source": [
    "PRINCIPAL COMPONENTS ANALYSIS"
   ]
  },
  {
   "cell_type": "code",
   "execution_count": 70,
   "metadata": {},
   "outputs": [
    {
     "name": "stdout",
     "output_type": "stream",
     "text": [
      "[9.78351478e-03 4.34054621e-03 2.18770886e-03 2.93815014e-04\n",
      " 2.58982705e-04 2.07229474e-04 1.01242527e-04 4.72911997e-05\n",
      " 3.00975789e-05 1.55646740e-05 1.03935345e-05 8.97395512e-06\n",
      " 6.21201798e-06 5.84426152e-06 4.46668355e-06 3.35420395e-06\n",
      " 2.37174481e-06 1.58771979e-06 1.13862427e-06 8.15541853e-07\n",
      " 5.28945293e-07 4.58507429e-07 4.27024048e-07 2.24092375e-07\n",
      " 1.74355378e-07 1.47354726e-07 1.19346311e-07 8.77681074e-08\n",
      " 7.26940499e-08 5.56926771e-08 3.87688424e-08 3.83533170e-08\n",
      " 1.12966962e-11 2.14143316e-08 7.00705050e-09 1.03691171e-08\n",
      " 1.77159762e-08 1.50347823e-08 1.38705811e-08 0.00000000e+00\n",
      " 0.00000000e+00 0.00000000e+00 0.00000000e+00 0.00000000e+00\n",
      " 0.00000000e+00 0.00000000e+00 0.00000000e+00 0.00000000e+00\n",
      " 0.00000000e+00 0.00000000e+00]\n",
      "(50, 50)\n"
     ]
    }
   ],
   "source": [
    "val_prep, pc_prep = eig(covarianceprep)\n",
    "val_move, pc_move = eig(covariancemove)\n",
    "\n",
    "print(val_prep)\n",
    "print(pc_prep.shape)\n"
   ]
  }
 ],
 "metadata": {
  "kernelspec": {
   "display_name": "base",
   "language": "python",
   "name": "python3"
  },
  "language_info": {
   "codemirror_mode": {
    "name": "ipython",
    "version": 3
   },
   "file_extension": ".py",
   "mimetype": "text/x-python",
   "name": "python",
   "nbconvert_exporter": "python",
   "pygments_lexer": "ipython3",
   "version": "3.10.6"
  },
  "orig_nbformat": 4,
  "vscode": {
   "interpreter": {
    "hash": "824e6d3070c9aef583dfb973f1d123f242d36c88ef3711bd1cf7460d3d6a1f70"
   }
  }
 },
 "nbformat": 4,
 "nbformat_minor": 2
}
